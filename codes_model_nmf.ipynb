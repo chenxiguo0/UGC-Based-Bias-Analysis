{
 "cells": [
  {
   "cell_type": "markdown",
   "metadata": {},
   "source": [
    "## 3. Modling -- Multiple Class Prediction on Reddit Submission Topics"
   ]
  },
  {
   "cell_type": "code",
   "execution_count": 9,
   "metadata": {},
   "outputs": [],
   "source": [
    "import pandas as pd\n",
    "import numpy as np\n",
    "import matplotlib.pyplot as plt\n",
    "from sklearn.feature_extraction.text import TfidfVectorizer, CountVectorizer\n",
    "from sklearn.decomposition import LatentDirichletAllocation, NMF\n",
    "from sklearn.preprocessing import StandardScaler\n",
    "from sklearn.cluster import DBSCAN\n",
    "from sklearn.neighbors import NearestNeighbors\n",
    "import spacy\n",
    "import gensim\n",
    "from gensim import corpora, models\n",
    "import pyLDAvis.gensim_models\n"
   ]
  },
  {
   "cell_type": "markdown",
   "metadata": {},
   "source": [
    "### Pre-processing with SpaCy"
   ]
  },
  {
   "cell_type": "code",
   "execution_count": 10,
   "metadata": {},
   "outputs": [],
   "source": [
    "# Load data\n",
    "file_path_text_clean = \"data/processed-data/text_clean.csv\"\n",
    "df = pd.read_csv(file_path_text_clean)\n",
    "\n",
    "# Additional domain-specific stopwords\n",
    "domain_stopwords = {\n",
    "    'trump', 'biden', 'republican', 'democrat', 'like', 'im', 'dont', 'people',\n",
    "    'think', 'know', 'would', 'said', 'one', 'year', 'state', 'time'\n",
    "}\n",
    "\n",
    "# Load SpaCy model for better text processing\n",
    "nlp = spacy.load('en_core_web_sm')\n",
    "\n",
    "def improved_text_preprocessing(text):\n",
    "    # Handle non-string inputs\n",
    "    if not isinstance(text, str):\n",
    "        if pd.isna(text):  \n",
    "            return \"\"\n",
    "        text = str(text)  \n",
    "    \n",
    "    doc = nlp(text)\n",
    "    # Keep only nouns, adjectives, verbs, and adverbs\n",
    "    tokens = [token.lemma_.lower() for token in doc \n",
    "             if (token.pos_ in ['NOUN', 'ADJ', 'VERB', 'ADV']) \n",
    "             and (token.lemma_.lower() not in domain_stopwords)\n",
    "             and (len(token.lemma_) > 2)]\n",
    "    return ' '.join(tokens)\n",
    "\n",
    "# Convert text column to string type and handle NaN values\n",
    "df['text'] = df['text'].fillna(\"\").astype(str)\n",
    "\n",
    "df['text'] = df['text'].apply(improved_text_preprocessing)\n",
    "submissions = df[df['type'].str.contains('submission')].copy()"
   ]
  },
  {
   "cell_type": "markdown",
   "metadata": {},
   "source": [
    "### NMF Topic Modeling"
   ]
  },
  {
   "cell_type": "code",
   "execution_count": 11,
   "metadata": {},
   "outputs": [],
   "source": [
    "def perform_nmf_analysis(texts, n_topics=5):\n",
    "    \"\"\"Perform NMF topic modeling\"\"\"\n",
    "    tfidf_vectorizer = TfidfVectorizer(\n",
    "        max_features=1000,\n",
    "        ngram_range=(1, 2)\n",
    "    )\n",
    "    tfidf = tfidf_vectorizer.fit_transform(texts)\n",
    "    \n",
    "    nmf_model = NMF(\n",
    "        n_components=n_topics,\n",
    "        random_state=42\n",
    "    )\n",
    "    nmf_topics = nmf_model.fit_transform(tfidf)\n",
    "    \n",
    "    return np.argmax(nmf_topics, axis=1), nmf_model, tfidf_vectorizer\n"
   ]
  },
  {
   "cell_type": "markdown",
   "metadata": {},
   "source": [
    "### DBSCAN Clustering Modeling"
   ]
  },
  {
   "cell_type": "code",
   "execution_count": 12,
   "metadata": {},
   "outputs": [],
   "source": [
    "def perform_dbscan_validation(texts, tfidf_vectorizer):\n",
    "    print(\"\\nPerforming DBSCAN validation...\")\n",
    "    \n",
    "    # Create TF-IDF vectors\n",
    "    tfidf = tfidf_vectorizer.transform(texts)\n",
    "    \n",
    "    # Scale the features\n",
    "    scaler = StandardScaler(with_mean=False)\n",
    "    scaled_tfidf = scaler.fit_transform(tfidf)\n",
    "    \n",
    "    # Apply DBSCAN\n",
    "    dbscan = DBSCAN(eps=0.5, min_samples=5)\n",
    "    dbscan_labels = dbscan.fit_predict(scaled_tfidf)\n",
    "    \n",
    "    # Count number of clusters found\n",
    "    n_clusters = len(set(dbscan_labels)) - (1 if -1 in dbscan_labels else 0)\n",
    "    print(f\"DBSCAN found {n_clusters} clusters\")\n",
    "    print(f\"Number of samples in each cluster: {pd.Series(dbscan_labels).value_counts().sort_index()}\")\n",
    "    \n",
    "    # K-distance plot (distance to the 5th nearest neighbor)\n",
    "    neigh = NearestNeighbors(n_neighbors=5)\n",
    "    neigh.fit(scaled_tfidf)\n",
    "    distances, indices = neigh.kneighbors(scaled_tfidf)\n",
    "    \n",
    "    # Plot k-distance graph (distances to 5th nearest neighbor)\n",
    "    distances = np.sort(distances[:, -1], axis=0)\n",
    "    plt.plot(distances)\n",
    "    plt.title('k-distance plot')\n",
    "    plt.xlabel('Points sorted by distance')\n",
    "    plt.ylabel('Distance to 5th nearest neighbor')\n",
    "    plt.show()\n",
    "    \n",
    "    return dbscan_labels"
   ]
  },
  {
   "cell_type": "markdown",
   "metadata": {},
   "source": []
  },
  {
   "cell_type": "markdown",
   "metadata": {},
   "source": [
    "### LDA Topic Modeling"
   ]
  },
  {
   "cell_type": "code",
   "execution_count": 13,
   "metadata": {},
   "outputs": [],
   "source": [
    "# def perform_lda_analysis(texts, n_topics=5):\n",
    "#     # Create dictionary and corpus\n",
    "#     texts_tokenized = [text.split() for text in texts]\n",
    "#     dictionary = corpora.Dictionary(texts_tokenized)\n",
    "#     corpus = [dictionary.doc2bow(text) for text in texts_tokenized]\n",
    "    \n",
    "#     # Train LDA model\n",
    "#     lda_model = models.LdaModel(\n",
    "#         corpus,\n",
    "#         num_topics=n_topics,\n",
    "#         id2word=dictionary,\n",
    "#         passes=15,\n",
    "#         random_state=42\n",
    "#     )\n",
    "    \n",
    "#     # Create visualization\n",
    "#     vis_data = pyLDAvis.gensim_models.prepare(lda_model, corpus, dictionary)\n",
    "#     pyLDAvis.save_html(vis_data, 'lda_visualization.html')\n",
    "    \n",
    "#     # Get topic assignments\n",
    "#     topic_assignments = []\n",
    "#     for doc in corpus:\n",
    "#         topics = lda_model.get_document_topics(doc)\n",
    "#         main_topic = max(topics, key=lambda x: x[1])[0]\n",
    "#         topic_assignments.append(main_topic)\n",
    "        \n",
    "#     return topic_assignments, lda_model"
   ]
  },
  {
   "cell_type": "markdown",
   "metadata": {},
   "source": [
    "### Results"
   ]
  },
  {
   "cell_type": "code",
   "execution_count": 14,
   "metadata": {},
   "outputs": [
    {
     "name": "stdout",
     "output_type": "stream",
     "text": [
      "Performing topic analysis...\n",
      "\n",
      "NMF Topics:\n",
      "Topic 0: say, abortion, feel, get, want, right, make, woman, even, life\n",
      "Topic 1: gun, rifle, reddit, gun owner, owner, assault, assault rifle, law, health, couple\n",
      "Topic 2: tax, pay, pay tax, work, income, system, low, call, federal, amount\n",
      "Topic 3: climate, change, climate change, call, point, news, article, insurance, meat, help\n",
      "Topic 4: vote, election, conservative, end, communist, worker, last, voting, socialist, democratic\n",
      "\n",
      "Performing DBSCAN validation...\n",
      "DBSCAN found 1 clusters\n",
      "Number of samples in each cluster: -1    648\n",
      " 0     29\n",
      "Name: count, dtype: int64\n"
     ]
    },
    {
     "data": {
      "image/png": "[encoded data removed]",
      "text/plain": [
       "<Figure size 640x480 with 1 Axes>"
      ]
     },
     "metadata": {},
     "output_type": "display_data"
    },
    {
     "name": "stdout",
     "output_type": "stream",
     "text": [
      "\n",
      "Comparison of NMF topics and DBSCAN clusters:\n",
      "dbscan_cluster   -1   0\n",
      "nmf_topic              \n",
      "0               427  29\n",
      "1                61   0\n",
      "2                45   0\n",
      "3                52   0\n",
      "4                63   0\n"
     ]
    }
   ],
   "source": [
    "# Apply all methods\n",
    "print(\"Performing topic analysis...\")\n",
    "\n",
    "# # 1. LDA Analysis\n",
    "# lda_topics, lda_model = perform_lda_analysis(submissions['text'])\n",
    "# submissions['lda_topic'] = lda_topics\n",
    "# print(\"\\nLDA Topics:\")\n",
    "# for idx in range(lda_model.num_topics):\n",
    "#     print(f\"Topic {idx}:\", end=' ')\n",
    "#     terms = lda_model.show_topic(idx, 10)\n",
    "#     print(', '.join([term for term, _ in terms]))\n",
    "\n",
    "# 2. NMF Analysis -- best\n",
    "nmf_topics, nmf_model, tfidf_vectorizer = perform_nmf_analysis(submissions['text'])\n",
    "submissions['nmf_topic'] = nmf_topics\n",
    "# Function to display top terms for each topic\n",
    "def display_top_terms(model, feature_names, n_top_words=10):\n",
    "    for topic_idx, topic in enumerate(model.components_):\n",
    "        top_terms = [feature_names[i] for i in topic.argsort()[:-n_top_words-1:-1]]\n",
    "        print(f\"Topic {topic_idx}: {', '.join(top_terms)}\")\n",
    "\n",
    "# Display results\n",
    "print(\"\\nNMF Topics:\")\n",
    "display_top_terms(nmf_model, tfidf_vectorizer.get_feature_names_out())\n",
    "\n",
    "# 3. DBSCAN Clustering\n",
    "submissions['dbscan_cluster'] = perform_dbscan_validation(submissions['text'], tfidf_vectorizer)\n",
    "\n",
    "# Compare NMF and DBSCAN results\n",
    "print(\"\\nComparison of NMF topics and DBSCAN clusters:\")\n",
    "print(pd.crosstab(submissions['nmf_topic'], submissions['dbscan_cluster']))\n"
   ]
  },
  {
   "cell_type": "markdown",
   "metadata": {},
   "source": [
    "### Assigning Topics"
   ]
  },
  {
   "cell_type": "code",
   "execution_count": 15,
   "metadata": {},
   "outputs": [],
   "source": [
    "# Create simplified topic labels (select the top term)\n",
    "topic_labels = {\n",
    "    0: \"abortion\",  \n",
    "    1: \"guns\",      \n",
    "    2: \"tax\",       \n",
    "    3: \"climate\",   \n",
    "    4: \"politics\"   \n",
    "}\n",
    "\n",
    "# Add topic labels to submissions\n",
    "submissions['nmf_topic'] = submissions['nmf_topic'].map(topic_labels)\n",
    "\n",
    "\n",
    "# Create a new column 'nmf_topic' to store the topic label for each row\n",
    "df['nmf_topic'] = None\n",
    "\n",
    "# Variables to store the current submission ID and its topic\n",
    "current_submission_id = None\n",
    "current_topic = None\n",
    "\n",
    "# Iterate through the dataset and assign the topic of the parent submission to each comment\n",
    "for idx, row in df.iterrows():\n",
    "    if 'submission' in row['type']:  # If the current row is a submission\n",
    "        # Get the current submission's ID and its topic\n",
    "        current_submission_id = row['id']\n",
    "        current_topic = submissions[submissions['id'] == current_submission_id]['nmf_topic'].values\n",
    "        if current_topic.size > 0:\n",
    "            current_topic = current_topic[0]\n",
    "        df.at[idx, 'nmf_topic'] = current_topic  \n",
    "    # If the row is a comment, assign the parent submission's topic\n",
    "    if 'comment' in row['type'] and current_submission_id is not None:\n",
    "        df.at[idx, 'nmf_topic'] = current_topic"
   ]
  },
  {
   "cell_type": "code",
   "execution_count": 16,
   "metadata": {},
   "outputs": [
    {
     "name": "stdout",
     "output_type": "stream",
     "text": [
      "\n",
      "Modeling complete. Results saved to data/processed-data/text_topic.csv\n",
      "\n",
      "Sample results:\n"
     ]
    },
    {
     "data": {
      "text/html": [
       "<div>\n",
       "<style scoped>\n",
       "    .dataframe tbody tr th:only-of-type {\n",
       "        vertical-align: middle;\n",
       "    }\n",
       "\n",
       "    .dataframe tbody tr th {\n",
       "        vertical-align: top;\n",
       "    }\n",
       "\n",
       "    .dataframe thead th {\n",
       "        text-align: right;\n",
       "    }\n",
       "</style>\n",
       "<table border=\"1\" class=\"dataframe\">\n",
       "  <thead>\n",
       "    <tr style=\"text-align: right;\">\n",
       "      <th></th>\n",
       "      <th>subreddit</th>\n",
       "      <th>id</th>\n",
       "      <th>type</th>\n",
       "      <th>depth</th>\n",
       "      <th>score</th>\n",
       "      <th>time</th>\n",
       "      <th>text</th>\n",
       "      <th>nmf_topic</th>\n",
       "    </tr>\n",
       "  </thead>\n",
       "  <tbody>\n",
       "    <tr>\n",
       "      <th>0</th>\n",
       "      <td>Libertarian</td>\n",
       "      <td>1hf706u</td>\n",
       "      <td>submission_hot</td>\n",
       "      <td>0</td>\n",
       "      <td>100</td>\n",
       "      <td>2024/12</td>\n",
       "      <td>road serfdom new libertarian economic let borr...</td>\n",
       "      <td>abortion</td>\n",
       "    </tr>\n",
       "    <tr>\n",
       "      <th>1</th>\n",
       "      <td>Libertarian</td>\n",
       "      <td>m29svuv</td>\n",
       "      <td>comment</td>\n",
       "      <td>1</td>\n",
       "      <td>1</td>\n",
       "      <td>2024/12</td>\n",
       "      <td>fredrich bastiat also good actually make funct...</td>\n",
       "      <td>abortion</td>\n",
       "    </tr>\n",
       "    <tr>\n",
       "      <th>2</th>\n",
       "      <td>Libertarian</td>\n",
       "      <td>m2a5co6</td>\n",
       "      <td>comment</td>\n",
       "      <td>2</td>\n",
       "      <td>1</td>\n",
       "      <td>2024/12</td>\n",
       "      <td>libertarian exclusively anarchist</td>\n",
       "      <td>abortion</td>\n",
       "    </tr>\n",
       "    <tr>\n",
       "      <th>3</th>\n",
       "      <td>Libertarian</td>\n",
       "      <td>m2a694w</td>\n",
       "      <td>comment</td>\n",
       "      <td>3</td>\n",
       "      <td>1</td>\n",
       "      <td>2024/12</td>\n",
       "      <td>true socialist communist always say fix ideolo...</td>\n",
       "      <td>abortion</td>\n",
       "    </tr>\n",
       "    <tr>\n",
       "      <th>4</th>\n",
       "      <td>Libertarian</td>\n",
       "      <td>m29bopi</td>\n",
       "      <td>comment</td>\n",
       "      <td>1</td>\n",
       "      <td>7</td>\n",
       "      <td>2024/12</td>\n",
       "      <td>good favorite always recommend start revolutio...</td>\n",
       "      <td>abortion</td>\n",
       "    </tr>\n",
       "    <tr>\n",
       "      <th>5</th>\n",
       "      <td>Libertarian</td>\n",
       "      <td>m2a1cm0</td>\n",
       "      <td>comment</td>\n",
       "      <td>1</td>\n",
       "      <td>1</td>\n",
       "      <td>2024/12</td>\n",
       "      <td>salma write book become movie star</td>\n",
       "      <td>abortion</td>\n",
       "    </tr>\n",
       "  </tbody>\n",
       "</table>\n",
       "</div>"
      ],
      "text/plain": [
       "     subreddit       id            type  depth  score     time  \\\n",
       "0  Libertarian  1hf706u  submission_hot      0    100  2024/12   \n",
       "1  Libertarian  m29svuv         comment      1      1  2024/12   \n",
       "2  Libertarian  m2a5co6         comment      2      1  2024/12   \n",
       "3  Libertarian  m2a694w         comment      3      1  2024/12   \n",
       "4  Libertarian  m29bopi         comment      1      7  2024/12   \n",
       "5  Libertarian  m2a1cm0         comment      1      1  2024/12   \n",
       "\n",
       "                                                text nmf_topic  \n",
       "0  road serfdom new libertarian economic let borr...  abortion  \n",
       "1  fredrich bastiat also good actually make funct...  abortion  \n",
       "2                  libertarian exclusively anarchist  abortion  \n",
       "3  true socialist communist always say fix ideolo...  abortion  \n",
       "4  good favorite always recommend start revolutio...  abortion  \n",
       "5                 salma write book become movie star  abortion  "
      ]
     },
     "execution_count": 16,
     "metadata": {},
     "output_type": "execute_result"
    }
   ],
   "source": [
    "# Save results\n",
    "df_text_topic = df\n",
    "\n",
    "file_path_text_topic = \"data/processed-data/text_topic.csv\"\n",
    "df_text_topic.to_csv(file_path_text_topic, index=False)\n",
    "\n",
    "print(f\"\\nModeling complete. Results saved to {file_path_text_topic}\")\n",
    "df_text_topic.head(6)\n",
    "\n",
    "# Display sample results\n",
    "print(\"\\nSample results:\")\n",
    "df_text_topic.head(6)"
   ]
  },
  {
   "cell_type": "code",
   "execution_count": null,
   "metadata": {},
   "outputs": [],
   "source": []
  }
 ],
 "metadata": {
  "kernelspec": {
   "display_name": "dsan5400",
   "language": "python",
   "name": "python3"
  },
  "language_info": {
   "codemirror_mode": {
    "name": "ipython",
    "version": 3
   },
   "file_extension": ".py",
   "mimetype": "text/x-python",
   "name": "python",
   "nbconvert_exporter": "python",
   "pygments_lexer": "ipython3",
   "version": "3.11.10"
  }
 },
 "nbformat": 4,
 "nbformat_minor": 2
}
