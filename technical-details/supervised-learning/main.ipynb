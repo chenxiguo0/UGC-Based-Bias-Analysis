{
 "cells": [
  {
   "cell_type": "markdown",
   "metadata": {},
   "source": [
    "---\n",
    "title: \"Supervised Learning\"\n",
    "format:\n",
    "    html: \n",
    "        code-fold: false\n",
    "---"
   ]
  },
  {
   "cell_type": "markdown",
   "metadata": {},
   "source": [
    "<!-- After digesting the instructions, you can delete this cell, these are assignment instructions and do not need to be included in your final submission.  -->\n",
    "\n",
    "{{< include supervised.qmd >}} "
   ]
  },
  {
   "cell_type": "markdown",
   "metadata": {},
   "source": [
    "# Codes "
   ]
  },
  {
   "cell_type": "code",
   "execution_count": null,
   "metadata": {},
   "outputs": [],
   "source": [
    "import pandas as pd\n",
    "import numpy as np\n",
    "import matplotlib.pyplot as plt\n",
    "from sklearn.feature_extraction.text import TfidfVectorizer\n",
    "from sklearn.tree import DecisionTreeClassifier, plot_tree\n",
    "from sklearn.metrics import classification_report, accuracy_score, mean_squared_error, mean_absolute_error, r2_score, explained_variance_score\n",
    "from sklearn.model_selection import cross_val_score, GridSearchCV, validation_curve\n",
    "from sklearn.ensemble import RandomForestRegressor\n",
    "from sklearn.model_selection import KFold, GridSearchCV\n",
    "from tqdm import tqdm\n"
   ]
  },
  {
   "cell_type": "markdown",
   "metadata": {},
   "source": [
    "## Decision Tree"
   ]
  },
  {
   "cell_type": "code",
   "execution_count": null,
   "metadata": {},
   "outputs": [],
   "source": [
    "# Load training data\n",
    "file_path_train_lean = \"data/processed-data/train_lean.csv\"\n",
    "train_data = pd.read_csv(file_path_train_lean)\n",
    "train_data = train_data.dropna(subset=['Text', 'Political Lean'])  \n",
    "\n",
    "# Select features and target\n",
    "X_train_text = train_data['Text']\n",
    "y_train = train_data['Political Lean']\n",
    "\n",
    "# Text vectorization (TF-IDF)\n",
    "tfidf_vectorizer = TfidfVectorizer(max_features=5000, stop_words='english')  \n",
    "X_train = tfidf_vectorizer.fit_transform(X_train_text)"
   ]
  },
  {
   "cell_type": "code",
   "execution_count": null,
   "metadata": {},
   "outputs": [],
   "source": [
    "# Define hyperparameter grid for Decision Tree\n",
    "param_grid = {\n",
    "    'max_depth': [10, 15, 20, 25, 30, 50, None],  # Adjust depth of the tree\n",
    "    'min_samples_split': [2, 5, 10, 20, 50],  # Minimum samples required to split a node\n",
    "    'min_samples_leaf': [1, 2, 5, 10, 20],  # Minimum samples required at a leaf node\n",
    "    'criterion': ['gini', 'entropy']  # Criterion for splitting\n",
    "}\n",
    "\n",
    "# Initialize Decision Tree classifier\n",
    "clf = DecisionTreeClassifier(random_state=5000)\n",
    "\n",
    "# Perform GridSearchCV for hyperparameter tuning\n",
    "grid_search = GridSearchCV(clf, param_grid, cv=5, scoring='accuracy', n_jobs=-1)\n",
    "grid_search.fit(X_train, y_train)\n",
    "\n",
    "# Output best parameters from GridSearchCV\n",
    "print(\"Best parameters found: \", grid_search.best_params_)\n",
    "print(\"Best cross-validation score: {:.4f}\".format(grid_search.best_score_))\n",
    "\n",
    "# Perform cross-validation on the best estimator found by GridSearchCV\n",
    "cv_scores = cross_val_score(grid_search.best_estimator_, X_train, y_train, cv=5, scoring='accuracy')\n",
    "\n",
    "print(\"Cross Validation Results:\")\n",
    "print(f\"Accuracy Scores: {cv_scores}\")\n",
    "print(f\"Mean Accuracy: {cv_scores.mean():.4f}\")\n",
    "print(f\"Standard Deviation: {cv_scores.std():.4f}\")\n",
    "\n",
    "# Train the best model on the full training set\n",
    "best_clf = grid_search.best_estimator_\n",
    "best_clf.fit(X_train, y_train)"
   ]
  },
  {
   "cell_type": "code",
   "execution_count": null,
   "metadata": {},
   "outputs": [],
   "source": [
    "# Visualize the trained decision tree\n",
    "plt.figure(figsize=(20, 10))\n",
    "plot_tree(best_clf, feature_names=tfidf_vectorizer.get_feature_names_out(), class_names=best_clf.classes_, filled=True)\n",
    "plt.title(\"Optimized Decision Tree Visualization\")\n",
    "plt.show()\n",
    "\n",
    "# Model evaluation (on training data)\n",
    "y_train_pred = best_clf.predict(X_train)\n",
    "print(\"Training Set Evaluation:\")\n",
    "print(classification_report(y_train, y_train_pred))\n",
    "print(\"Training Accuracy:\", accuracy_score(y_train, y_train_pred))\n"
   ]
  },
  {
   "cell_type": "code",
   "execution_count": null,
   "metadata": {},
   "outputs": [],
   "source": [
    "# Load test data\n",
    "file_path_text_topic = \"data/processed-data/text_topic.csv\"\n",
    "test_data = pd.read_csv(file_path_text_topic)\n",
    "test_data = test_data.dropna(subset=['text'])\n",
    "\n",
    "# Use the same vectorizer\n",
    "X_test_text = test_data['text']\n",
    "X_test = tfidf_vectorizer.transform(X_test_text)\n",
    "\n",
    "# Predict on test data\n",
    "predictions = best_clf.predict(X_test)\n",
    "\n",
    "# Add predictions to the test set\n",
    "test_data['dt_lean'] = predictions\n",
    "\n",
    "# Save predictions\n",
    "file_path_text_lean = \"data/processed-data/text_lean.csv\"\n",
    "df_text_lean = test_data\n",
    "df_text_lean.to_csv(file_path_text_lean, index=False)\n",
    "\n",
    "print(f\"Modeling complete. Results saved to {file_path_text_lean}\")\n",
    "df_text_lean.head(6)"
   ]
  },
  {
   "cell_type": "markdown",
   "metadata": {},
   "source": [
    "## Random Forest"
   ]
  },
  {
   "cell_type": "code",
   "execution_count": null,
   "metadata": {},
   "outputs": [],
   "source": [
    "# Load and preprocess training data\n",
    "file_path_train_toxicity = \"data/processed-data/train_toxicity.csv\"\n",
    "train_data = pd.read_csv(file_path_train_toxicity)\n",
    "train_data = train_data.dropna(subset=['comment_text', 'target'])  # Drop rows with NaN in targetted columns\n",
    "\n",
    "# Split features and target\n",
    "X_train_text = train_data['comment_text']  \n",
    "y_train = train_data['target']            \n",
    "\n",
    "# Text vectorization\n",
    "tfidf_vectorizer = TfidfVectorizer(max_features=5000, stop_words='english')\n",
    "X_train = tfidf_vectorizer.fit_transform(X_train_text)"
   ]
  },
  {
   "cell_type": "code",
   "execution_count": null,
   "metadata": {},
   "outputs": [],
   "source": [
    "# Define the parameter grid for GridSearchCV\n",
    "param_grid = {\n",
    "    'n_estimators': [100, 200, 300, 350, 500],\n",
    "    'max_depth': [10, 15, 20, 25, 50, None],\n",
    "    'min_samples_split': [2, 5, 10],\n",
    "    'min_samples_leaf': [1, 5, 10],\n",
    "    'max_features': ['sqrt', 'log2']\n",
    "}\n",
    "\n",
    "# Initialize and train Random Forest Regressor\n",
    "rf = RandomForestRegressor(random_state=5000)  \n",
    "\n",
    "# Perform GridSearchCV\n",
    "grid_search = GridSearchCV(rf, param_grid, cv=3, scoring='neg_mean_squared_error', n_jobs=-1, verbose=1)\n",
    "grid_search.fit(X_train, y_train)\n",
    "\n",
    "# Output the best parameters and score from GridSearchCV\n",
    "print(\"Best parameters found: \", grid_search.best_params_)\n",
    "print(\"Best cross-validation MSE: \", grid_search.best_score_)\n",
    "\n",
    "# Use the best estimator from GridSearchCV\n",
    "best_rf = grid_search.best_estimator_\n",
    "\n",
    "# Perform cross-validation with progress tracking\n",
    "print(\"Performing Cross Validation...\")\n",
    "cv_scores = []\n",
    "for train_index, test_index in tqdm(KFold(n_splits=5, shuffle=True, random_state=5000).split(X_train), desc=\"Cross Validation Progress\"):\n",
    "    # Train-test split\n",
    "    X_train_fold, X_test_fold = X_train[train_index], X_train[test_index]\n",
    "    y_train_fold, y_test_fold = y_train[train_index], y_train[test_index]\n",
    "    \n",
    "    # Train and evaluate\n",
    "    best_rf.fit(X_train_fold, y_train_fold)\n",
    "    fold_score = mean_squared_error(y_test_fold, best_rf.predict(X_test_fold))\n",
    "    cv_scores.append(fold_score)\n",
    "\n",
    "\n",
    "# Output cross-validation results\n",
    "print(\"\\n--- Cross-validation Results ---\")\n",
    "print(f\"Cross-validation MSE (per fold): {cv_scores}\")\n",
    "print(f\"Mean Cross-validation MSE: {np.mean(cv_scores):.4f}\")\n",
    "print(f\"Standard Deviation of Cross-validation MSE: {np.std(cv_scores):.4f}\")"
   ]
  },
  {
   "cell_type": "code",
   "execution_count": null,
   "metadata": {},
   "outputs": [],
   "source": [
    "# Train the model on the entire training data\n",
    "best_rf.fit(X_train, y_train)\n",
    "\n",
    "# Model evaluation (on training data)\n",
    "y_train_pred = best_rf.predict(X_train)\n",
    "mse = mean_squared_error(y_train, y_train_pred)\n",
    "rmse = np.sqrt(mse)\n",
    "mae = mean_absolute_error(y_train, y_train_pred)\n",
    "r2 = r2_score(y_train, y_train_pred)\n",
    "evs = explained_variance_score(y_train, y_train_pred)\n",
    "\n",
    "print(\"\\n--- Model Evaluation on Training Data ---\")\n",
    "print(f\"Mean Squared Error (MSE): {mse:.4f}\")\n",
    "print(f\"Root Mean Squared Error (RMSE): {rmse:.4f}\")\n",
    "print(f\"Mean Absolute Error (MAE): {mae:.4f}\")\n",
    "print(f\"R-squared (R2): {r2:.4f}\")\n",
    "print(f\"Explained Variance Score: {evs:.4f}\")"
   ]
  },
  {
   "cell_type": "code",
   "execution_count": null,
   "metadata": {},
   "outputs": [],
   "source": [
    "import matplotlib.pyplot as plt\n",
    "import seaborn as sns\n",
    "\n",
    "# Parity plot\n",
    "plt.figure(figsize=(8, 6))\n",
    "sns.scatterplot(x=y_train, y=y_train_pred, color='blue', alpha=0.6)\n",
    "plt.plot([min(y_train), max(y_train)], [min(y_train), max(y_train)], color='red', linestyle='--')  # 对角线\n",
    "\n",
    "plt.title(\"Parity Plot: Actual vs Predicted Values\")\n",
    "plt.xlabel(\"Actual Values\")\n",
    "plt.ylabel(\"Predicted Values\")\n",
    "plt.show()\n"
   ]
  },
  {
   "cell_type": "code",
   "execution_count": null,
   "metadata": {},
   "outputs": [],
   "source": [
    "# Load test data\n",
    "file_path_text_lean = \"data/processed-data/text_lean.csv\"\n",
    "test_data = pd.read_csv(file_path_text_lean)\n",
    "test_data = test_data.dropna(subset=['text'])\n",
    "\n",
    "# Use the same vectorizer\n",
    "X_test_text = test_data['text']\n",
    "X_test = tfidf_vectorizer.transform(X_test_text)\n",
    "\n",
    "# Predict toxicity values on test data\n",
    "test_data['rf_toxicity'] = best_rf.predict(X_test)\n",
    "df_text_toxicity = test_data\n",
    "\n",
    "# Save predictions\n",
    "file_path_text_toxicity = \"data/processed-data/text_toxicity.csv\"\n",
    "df_text_toxicity.to_csv(file_path_text_toxicity, index=False)\n",
    "print(f\"Modling complete. Results saved to {file_path_text_toxicity}\")\n",
    "df_text_toxicity.head(13)\n"
   ]
  }
 ],
 "metadata": {
  "kernelspec": {
   "display_name": "base",
   "language": "python",
   "name": "python3"
  },
  "language_info": {
   "codemirror_mode": {
    "name": "ipython",
    "version": 3
   },
   "file_extension": ".py",
   "mimetype": "text/x-python",
   "name": "python",
   "nbconvert_exporter": "python",
   "pygments_lexer": "ipython3",
   "version": "3.10.14"
  }
 },
 "nbformat": 4,
 "nbformat_minor": 2
}
